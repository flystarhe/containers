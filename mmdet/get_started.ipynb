{
 "cells": [
  {
   "cell_type": "markdown",
   "id": "d4e11a6f",
   "metadata": {},
   "source": [
    "# Get Started\n",
    "\n",
    "以下命令将启动一个特定版本的容器，同时把主机当前目录映射到容器`/workspace`目录\n",
    "```sh\n",
    "t=flystarhe/mmdet:v2.24.1 && \\\n",
    "docker run --gpus all -d -p 7000:9000 --ipc=host --name test -v \"$(pwd)\":/workspace ${t} notebook\n",
    "```\n",
    "\n",
    "这时你有两种方式来开始训练或验证任务：\n",
    "\n",
    "- Jupyter - http://hostname:7000/?token=hi\n",
    "- Bash - `docker exec -it test bash`\n",
    "\n",
    "本教程只针对Jupyter方式。目标为提高工作的效率和规范性，实现所有参与者聚焦[Perception Ecosystem](#)第二节的模式快速开展工作，而不是每位同时都需要重复的去和环境作斗争。\n",
    "\n",
    "## Prepare Config\n",
    "如果你想导出一份版本库里原始的\n",
    "```python\n",
    "from mmcv import Config\n",
    "\n",
    "MMDET_HOME = \"/opt/src/mmdetection\"\n",
    "CONFIG_FILE = \"configs/centernet/centernet_resnet18_140e_coco.py\"\n",
    "cfg = Config.fromfile(f\"{MMDET_HOME}/{CONFIG_FILE}\")\n",
    "cfg.dump(f\"/workspace/centernet_resnet18.py\")\n",
    "print(f\"Config:\\n{cfg.pretty_text}\")\n",
    "```"
   ]
  },
  {
   "cell_type": "markdown",
   "id": "991450d9",
   "metadata": {},
   "source": [
    "## Prepare Data"
   ]
  },
  {
   "cell_type": "code",
   "execution_count": null,
   "id": "bd742f02",
   "metadata": {},
   "outputs": [],
   "source": [
    "%%bash\n",
    "rm -rf coco2017_cat_dog*\n",
    "wget -q https://github.com/flystarhe/containers/releases/download/v0.2.0/coco2017_cat_dog.tar\n",
    "tar -xf coco2017_cat_dog.tar\n",
    "ls -Alp ."
   ]
  },
  {
   "cell_type": "markdown",
   "id": "3213ecad",
   "metadata": {},
   "source": [
    "```log\n",
    "coco2017_cat_dog\n",
    "├── train\n",
    "│   ├── data\n",
    "│   │   ├── 000000001319.jpg\n",
    "│   │   ├── 000000011635.jpg\n",
    "│   │   ├── 000000012764.jpg\n",
    "│   │   ├── 000000013636.jpg\n",
    "│   │   ├── 000000016759.jpg\n",
    "│   │   └── 000000018155.jpg\n",
    "│   └── labels.json\n",
    "└── validation\n",
    "    ├── data\n",
    "    │   ├── 000000022892.jpg\n",
    "    │   ├── 000000071226.jpg\n",
    "    │   ├── 000000169076.jpg\n",
    "    │   ├── 000000179392.jpg\n",
    "    │   ├── 000000189806.jpg\n",
    "    │   └── 000000219578.jpg\n",
    "    └── labels.json\n",
    "```"
   ]
  },
  {
   "cell_type": "markdown",
   "id": "509d36e9",
   "metadata": {},
   "source": [
    "## Train\n",
    "\n",
    "### Training on a single GPU"
   ]
  },
  {
   "cell_type": "code",
   "execution_count": null,
   "id": "f3eed8f1",
   "metadata": {},
   "outputs": [],
   "source": [
    "MMDET_HOME = \"/opt/src/mmdetection\"\n",
    "CONFIG_FILE = f\"{MMDET_HOME}/configs/centernet/centernet_resnet18_140e_coco.py\"\n",
    "EXPERIMENT_PATH = \"/workspace/tmp/runs/coco2017_cat_dog_centernet_resnet18\"\n",
    "DATA_ROOT = \"/workspace/coco2017_cat_dog\"\n",
    "NUM_CLASSES = \"2\"\n",
    "CLASSES = \"cat,dog\"\n",
    "\n",
    "ARGS = [f\"{CONFIG_FILE}\",\n",
    "        f\"--work-dir {EXPERIMENT_PATH}\",\n",
    "        f\"--seed 41\",\n",
    "        f\"--launcher none\",\n",
    "        f\"--cfg-options\",\n",
    "        f\"'model.bbox_head.num_classes={NUM_CLASSES}'\",\n",
    "        f\"'data.samples_per_gpu=2'\",\n",
    "        f\"'data.workers_per_gpu=2'\",\n",
    "        f\"'data.train.dataset.classes={CLASSES}'\",\n",
    "        f\"'data.train.dataset.ann_file={DATA_ROOT}/train/labels.json'\",\n",
    "        f\"'data.train.dataset.img_prefix={DATA_ROOT}/train/data/'\",\n",
    "        f\"'data.val.classes={CLASSES}'\",\n",
    "        f\"'data.val.ann_file={DATA_ROOT}/validation/labels.json'\",\n",
    "        f\"'data.val.img_prefix={DATA_ROOT}/validation/data/'\",\n",
    "        f\"'data.test.classes={CLASSES}'\",\n",
    "        f\"'data.test.ann_file={DATA_ROOT}/validation/labels.json'\",\n",
    "        f\"'data.test.img_prefix={DATA_ROOT}/validation/data/'\",\n",
    "        \"'log_config.interval=8'\",  # 50, 100 or 200\n",
    "        \"'runner.max_epochs=3'\"]  # 12, 24 or 30\n",
    "ARGS = \" \".join(ARGS)\n",
    "print(f\"{ARGS=}\")\n",
    "\n",
    "!cd {MMDET_HOME} && python tools/train.py {ARGS}"
   ]
  },
  {
   "cell_type": "markdown",
   "id": "f77e0101",
   "metadata": {},
   "source": [
    "### Training on multiple GPUs"
   ]
  },
  {
   "cell_type": "code",
   "execution_count": null,
   "id": "854bc35a",
   "metadata": {},
   "outputs": [],
   "source": [
    "CFG_NUM_GPUS = 1\n",
    "MMDET_HOME = \"/opt/src/mmdetection\"\n",
    "CONFIG_FILE = f\"{MMDET_HOME}/configs/centernet/centernet_resnet18_140e_coco.py\"\n",
    "EXPERIMENT_PATH = \"/workspace/tmp/runs/coco2017_cat_dog_centernet_resnet18\"\n",
    "DATA_ROOT = \"/workspace/coco2017_cat_dog\"\n",
    "NUM_CLASSES = \"2\"\n",
    "CLASSES = \"cat,dog\"\n",
    "\n",
    "ARGS = [f\"{CONFIG_FILE}\",\n",
    "        f\"--work-dir {EXPERIMENT_PATH}\",\n",
    "        f\"--seed 41\",\n",
    "        f\"--launcher pytorch\",  # for distributed\n",
    "        f\"--cfg-options\",\n",
    "        f\"'model.bbox_head.num_classes={NUM_CLASSES}'\",\n",
    "        f\"'data.samples_per_gpu=2'\",\n",
    "        f\"'data.workers_per_gpu=2'\",\n",
    "        f\"'data.train.dataset.classes={CLASSES}'\",\n",
    "        f\"'data.train.dataset.ann_file={DATA_ROOT}/train/labels.json'\",\n",
    "        f\"'data.train.dataset.img_prefix={DATA_ROOT}/train/data/'\",\n",
    "        f\"'data.val.classes={CLASSES}'\",\n",
    "        f\"'data.val.ann_file={DATA_ROOT}/validation/labels.json'\",\n",
    "        f\"'data.val.img_prefix={DATA_ROOT}/validation/data/'\",\n",
    "        f\"'data.test.classes={CLASSES}'\",\n",
    "        f\"'data.test.ann_file={DATA_ROOT}/validation/labels.json'\",\n",
    "        f\"'data.test.img_prefix={DATA_ROOT}/validation/data/'\",\n",
    "        \"'log_config.interval=8'\",  # 50, 100 or 200\n",
    "        \"'runner.max_epochs=3'\"]  # 12, 24 or 30\n",
    "ARGS = \" \".join(ARGS)\n",
    "print(f\"{ARGS=}\")\n",
    "\n",
    "!cd {MMDET_HOME} && python -m torch.distributed.run --nproc_per_node {CFG_NUM_GPUS} tools/train.py {ARGS}"
   ]
  }
 ],
 "metadata": {
  "kernelspec": {
   "display_name": "Python 3 (ipykernel)",
   "language": "python",
   "name": "python3"
  },
  "language_info": {
   "codemirror_mode": {
    "name": "ipython",
    "version": 3
   },
   "file_extension": ".py",
   "mimetype": "text/x-python",
   "name": "python",
   "nbconvert_exporter": "python",
   "pygments_lexer": "ipython3",
   "version": "3.8.12"
  }
 },
 "nbformat": 4,
 "nbformat_minor": 5
}
